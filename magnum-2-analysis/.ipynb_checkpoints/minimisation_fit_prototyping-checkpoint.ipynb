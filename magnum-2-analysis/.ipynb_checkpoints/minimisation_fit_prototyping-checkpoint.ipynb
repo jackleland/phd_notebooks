{
 "cells": [
  {
   "cell_type": "markdown",
   "metadata": {},
   "source": [
    "# Iminuit Comparison\n",
    "This notebook looks at an example IV characteristic (shot 338 - as in single_shot_analysis_magnum.ipynb) and compares the use of curve_fit to the use of iminuit in terms of fitting quality and error analysis. "
   ]
  },
  {
   "cell_type": "code",
   "execution_count": 1,
   "metadata": {},
   "outputs": [],
   "source": [
    "%matplotlib tk\n",
    "import numpy as np\n",
    "import matplotlib.pyplot as plt\n",
    "import pandas as pd\n",
    "import xarray as xr \n",
    "import scipy.stats as stat\n",
    "import sys\n",
    "import os\n",
    "import glob\n",
    "import re\n",
    "import importlib\n",
    "sys.path.append('/home/jleland/Coding/Projects/flopter')\n",
    "import flopter.core.ivdata as iv\n",
    "import flopter.core.lputils as lp\n",
    "import flopter.core.constants as c\n",
    "import flopter.magnum.database as ut\n",
    "import flopter.core.fitters as fts\n",
    "import flopter.magnum.utils as mgut"
   ]
  },
  {
   "cell_type": "code",
   "execution_count": 2,
   "metadata": {},
   "outputs": [],
   "source": [
    "# Create analysed dataset metadata \n",
    "\n",
    "path_to_datasets = '/home/jleland/data/external/magnum/'\n",
    "# path_to_analysed_datasets = 'analysed_4_downsampled/*nc'\n",
    "path_to_analysed_datasets = 'analysed_4_downsampled'\n",
    "# path_to_analysed_datasets = 'analysed_4'\n",
    "os.chdir(path_to_datasets)\n",
    "\n",
    "\n",
    "analysed_infos_df = mgut.get_dataset_metadata(path_to_analysed_datasets)"
   ]
  },
  {
   "cell_type": "code",
   "execution_count": 3,
   "metadata": {},
   "outputs": [],
   "source": [
    "adc_index = 329"
   ]
  },
  {
   "cell_type": "code",
   "execution_count": 4,
   "metadata": {},
   "outputs": [],
   "source": [
    "# shot_number = 337\n",
    "# shot_number = 338\n",
    "# shot_number = 339\n",
    "# shot_number = 330\n",
    "shot_number = 137"
   ]
  },
  {
   "cell_type": "code",
   "execution_count": 5,
   "metadata": {},
   "outputs": [
    {
     "data": {
      "text/plain": [
       "shot_number                                                     337\n",
       "shot_timestamp                                  6699048922136187904\n",
       "shot_time                                       2019-06-05 15:11:12\n",
       "filename          analysed_4_downsampled/a337_329_66990489221361...\n",
       "time_len                                                         50\n",
       "sweep_len                                                      2198\n",
       "Name: 329, dtype: object"
      ]
     },
     "execution_count": 5,
     "metadata": {},
     "output_type": "execute_result"
    }
   ],
   "source": [
    "analysed_infos_df.loc[adc_index]"
   ]
  },
  {
   "cell_type": "code",
   "execution_count": 6,
   "metadata": {},
   "outputs": [
    {
     "data": {
      "text/plain": [
       "array(['analysed_4_downsampled/a137_142_6698288256655030272.nc'],\n",
       "      dtype=object)"
      ]
     },
     "execution_count": 6,
     "metadata": {},
     "output_type": "execute_result"
    }
   ],
   "source": [
    "# Get row from shot_number instead of ADC index\n",
    "shot_oi = analysed_infos_df.loc[analysed_infos_df['shot_number'] == shot_number]\n",
    "shot_oi['filename'].values"
   ]
  },
  {
   "cell_type": "code",
   "execution_count": 7,
   "metadata": {},
   "outputs": [],
   "source": [
    "analysis_ds = xr.open_dataset(shot_oi['filename'].values[0])\n",
    "metadata_ds = xr.open_dataset('all_meta_data.nc').sel(shot_number=shot_number).load()\n",
    "# print(analysis_ds)\n",
    "# metadata_ds"
   ]
  },
  {
   "cell_type": "code",
   "execution_count": 8,
   "metadata": {},
   "outputs": [],
   "source": [
    "# probe = 'S'\n",
    "probe = 'L'"
   ]
  },
  {
   "cell_type": "code",
   "execution_count": 9,
   "metadata": {},
   "outputs": [],
   "source": [
    "magnum_probes = lp.MagnumProbes()"
   ]
  },
  {
   "cell_type": "code",
   "execution_count": 10,
   "metadata": {},
   "outputs": [],
   "source": [
    "gaussian = fts.NormalisedGaussianFitter()"
   ]
  },
  {
   "cell_type": "markdown",
   "metadata": {},
   "source": [
    "# Using curve_fit \n",
    "Using flopter.core.fitters to fit a 4-param fit to the sweep-averaged IV using non-linear least squares."
   ]
  },
  {
   "cell_type": "code",
   "execution_count": 11,
   "metadata": {},
   "outputs": [],
   "source": [
    "shot_ds = analysis_ds.sel(probe=probe)   \n",
    "sweep_avg_ds = shot_ds.mean(['sweep', 'direction'])\n",
    "\n",
    "# Assign errors\n",
    "sweep_avg_ds = sweep_avg_ds.assign({\n",
    "    'd_current': shot_ds.std(['sweep', 'direction'])['current'], \n",
    "    'd_voltage': shot_ds.std(['sweep', 'direction'])['voltage'],\n",
    "    'stderr_current': shot_ds.std(['sweep', 'direction'])['current'] / np.sqrt(shot_ds.std(['sweep', 'direction'])['current'].size), \n",
    "    'stderr_voltage': shot_ds.std(['sweep', 'direction'])['voltage'] / np.sqrt(shot_ds.std(['sweep', 'direction'])['voltage'].size),\n",
    "}) "
   ]
  },
  {
   "cell_type": "code",
   "execution_count": 12,
   "metadata": {},
   "outputs": [
    {
     "name": "stdout",
     "output_type": "stream",
     "text": [
      "50\n",
      "50\n"
     ]
    }
   ],
   "source": [
    "print(shot_ds.std(['sweep', 'direction'])['current'].size)\n",
    "print(sweep_avg_ds['current'].size)"
   ]
  },
  {
   "cell_type": "markdown",
   "metadata": {},
   "source": [
    "---\n",
    "\n",
    "## Test for changes made to multi_fit\n",
    "Temperature minimisation fitting added on 2020-05-19"
   ]
  },
  {
   "cell_type": "code",
   "execution_count": 13,
   "metadata": {},
   "outputs": [
    {
     "name": "stdout",
     "output_type": "stream",
     "text": [
      "0.02386122585689803\n",
      "0.11574678187386568\n",
      "2.1157629936406135\n"
     ]
    }
   ],
   "source": [
    "iv_data = iv.IVData.from_dataset(sweep_avg_ds, sigma='stderr_current')\n",
    "print(iv_data.multi_fit(plot_fl=False).reduced_chi2)\n",
    "print(iv_data.multi_fit(plot_fl=False, minimise_temp_fl=False).reduced_chi2)\n",
    "\n",
    "trim_iv_data = iv_data.lower_trim(16)\n",
    "print(fts.FullIVFitter().fit_iv_data(trim_iv_data, sigma=trim_iv_data['sigma']).reduced_chi2)"
   ]
  },
  {
   "cell_type": "markdown",
   "metadata": {},
   "source": [
    "---"
   ]
  },
  {
   "cell_type": "code",
   "execution_count": 14,
   "metadata": {},
   "outputs": [
    {
     "data": {
      "text/plain": [
       "<matplotlib.legend.Legend at 0x7f814daa3860>"
      ]
     },
     "execution_count": 14,
     "metadata": {},
     "output_type": "execute_result"
    }
   ],
   "source": [
    "fig, axes = plt.subplots(2, sharex=True)\n",
    "\n",
    "axes[0].errorbar('voltage', 'current', yerr='d_current', data=sweep_avg_ds, linewidth=0.5)\n",
    "axes[0].fill_between(\n",
    "    sweep_avg_ds.voltage.values, \n",
    "    sweep_avg_ds.current.values + sweep_avg_ds.stderr_current.values, \n",
    "    sweep_avg_ds.current.values - sweep_avg_ds.stderr_current.values,\n",
    "    alpha=0.5\n",
    ")\n",
    "\n",
    "axes[1].plot('voltage', 'd_current', data=sweep_avg_ds, label='st dev.')\n",
    "axes[1].plot('voltage', 'stderr_current', data=sweep_avg_ds, label='st err.')\n",
    "axes[1].set_yscale('log')\n",
    "axes[1].legend()"
   ]
  },
  {
   "cell_type": "code",
   "execution_count": 22,
   "metadata": {},
   "outputs": [
    {
     "name": "stderr",
     "output_type": "stream",
     "text": [
      "/home/jleland/coding/environments/python3.6/lib/python3.6/site-packages/xarray/core/computation.py:604: RuntimeWarning: invalid value encountered in log\n",
      "  result_data = func(*input_data)\n"
     ]
    },
    {
     "data": {
      "text/plain": [
       "[<matplotlib.lines.Line2D at 0x7fe280b13908>]"
      ]
     },
     "execution_count": 22,
     "metadata": {},
     "output_type": "execute_result"
    }
   ],
   "source": [
    "# Attempt at plotting semilog plot\n",
    "\n",
    "fig, axes = plt.subplots(2, sharex=True)\n",
    "\n",
    "axes[0].errorbar('voltage', 'current', yerr='stderr_current', data=sweep_avg_ds)\n",
    "axes[0].fill_between(\n",
    "    sweep_avg_ds.voltage.values, \n",
    "    sweep_avg_ds.current.values + sweep_avg_ds.d_current.values, \n",
    "    sweep_avg_ds.current.values - sweep_avg_ds.d_current.values,\n",
    "    alpha=0.5\n",
    ")\n",
    "\n",
    "axes[1].plot(sweep_avg_ds['voltage'], np.log(sweep_avg_ds['current'] / -0.18) + 1)\n",
    "# axes[1].set_yscale('log')\n"
   ]
  },
  {
   "cell_type": "markdown",
   "metadata": {},
   "source": [
    "Below is a function to run a fit of an IV for a given upper index, i.e. a position past the floating potential. The idea is that this could be transformed into a fitting function which minimises the temperature while scanning over the upper_index"
   ]
  },
  {
   "cell_type": "code",
   "execution_count": 17,
   "metadata": {},
   "outputs": [],
   "source": [
    "\n",
    "def fit_iv(sweep_avg_ds, upper_index, ax=None, multi_fit_fl=False, suppress_plotting_fl=False):\n",
    "    print(upper_index)\n",
    "    if ax is None and suppress_plotting_fl is False:\n",
    "        fig, ax = plt.subplots()\n",
    "\n",
    "    if sweep_avg_ds['voltage'].values[0] < sweep_avg_ds['voltage'].values[-1]:\n",
    "        sweep_trim_ds = sweep_avg_ds.isel(time=slice(0,upper_index))\n",
    "    else:\n",
    "        sweep_trim_ds = sweep_avg_ds.isel(time=slice(sweep_avg_ds.time.size - upper_index,-1))\n",
    "        \n",
    "    max_voltage = sweep_trim_ds['voltage'].max('time').values\n",
    "    \n",
    "    if not suppress_plotting_fl:\n",
    "#         fig.suptitle(f'upper_index = {upper_index}')\n",
    "        fig.suptitle(r'$V_{cutoff}$ = ' + f'{max_voltage:.2g}')\n",
    "        ax.errorbar(sweep_trim_ds['voltage'].values, -sweep_trim_ds['current'].values, \n",
    "        #             yerr=sweep_trim_ds['d_current'].values,\n",
    "                    yerr=sweep_trim_ds['stderr_current'].values,\n",
    "        #             xerr=sweep_trim_ds['d_voltage'].values,\n",
    "                    linestyle='none', color='k', ecolor='k', label='Sweep-averaged IV', zorder=2)\n",
    "\n",
    "\n",
    "        # Plot the whole IV in an inset axis\n",
    "        inner_ax = plt.axes([0.2, 0.35, .2, .2])\n",
    "        (-sweep_avg_ds.set_coords('voltage')['current']).plot(x='voltage', ax=inner_ax)\n",
    "        inner_ax.axvline(x=sweep_trim_ds.max('time')['voltage'].values, **c.AX_LINE_DEFAULTS)\n",
    "        inner_ax.set_title('Whole IV')\n",
    "        inner_ax.set_xlabel('V')\n",
    "        inner_ax.set_ylabel('I')\n",
    "        inner_ax.set_xticks([])\n",
    "        inner_ax.set_yticks([])\n",
    "\n",
    "    shot_iv = iv.IVData(sweep_trim_ds['voltage'].values,\n",
    "                        -sweep_trim_ds['current'].values,\n",
    "                        sweep_trim_ds['shot_time'].values,\n",
    "                        sigma=sweep_trim_ds['stderr_current'].values)\n",
    "    # shot_iv = iv.IVData(sweep_avg_ds['voltage'].values,\n",
    "    #                     -sweep_avg_ds['current'].values,\n",
    "    #                     sweep_avg_ds['shot_time'].values,\n",
    "    #                     sigma=sweep_avg_ds['stderr_current'].values)\n",
    "    \n",
    "    if multi_fit_fl:\n",
    "        shot_fit = shot_iv.multi_fit(sat_region=-52, minimise_temp_fl=False, trim_to_floating_fl=False)\n",
    "    else:\n",
    "        fitter = fts.FullIVFitter()\n",
    "        shot_fit = fitter.fit_iv_data(shot_iv, sigma=shot_iv['sigma'])\n",
    "    \n",
    "    fit_dens = magnum_probes.probe_s.get_density(shot_fit.get_isat(), shot_fit.get_temp(), alpha=np.radians(7.98))[0]\n",
    "#     print(fit_dens)\n",
    "\n",
    "    temp = metadata_ds.ts_temp_max.values\n",
    "    dens = metadata_ds.ts_dens_max.values\n",
    "    \n",
    "    if not suppress_plotting_fl:\n",
    "        chi_2_str = r\"$\\chi^2_{red}$\"\n",
    "        ax.plot(*shot_fit.get_fit_plottables(), label=f'Fit - T_e={shot_fit.get_temp():.3g}, n_e={fit_dens:.3g}, {chi_2_str} = {shot_fit.reduced_chi2:.3g}')\n",
    "\n",
    "        ax.legend()\n",
    "    \n",
    "#     return shot_fit\n",
    "    return shot_fit, shot_iv"
   ]
  },
  {
   "cell_type": "code",
   "execution_count": 18,
   "metadata": {},
   "outputs": [
    {
     "name": "stdout",
     "output_type": "stream",
     "text": [
      "35\n",
      "36\n",
      "37\n",
      "38\n",
      "39\n",
      "40\n",
      "41\n",
      "42\n",
      "43\n",
      "44\n",
      "45\n",
      "46\n",
      "47\n",
      "48\n",
      "49\n"
     ]
    }
   ],
   "source": [
    "shot_fits = []\n",
    "varying_indices = np.arange(35,50)\n",
    "# varying_indices = np.arange(3600,5000,50)\n",
    "\n",
    "for i in varying_indices:\n",
    "    shot_fit, shot_iv = fit_iv(sweep_avg_ds, i, suppress_plotting_fl=False, multi_fit_fl=True)\n",
    "    shot_fits.append(shot_fit)"
   ]
  },
  {
   "cell_type": "code",
   "execution_count": 29,
   "metadata": {},
   "outputs": [
    {
     "ename": "TypeError",
     "evalue": "multi_fit() got an unexpected keyword argument 'fitter'",
     "output_type": "error",
     "traceback": [
      "\u001b[0;31m---------------------------------------------------------------------------\u001b[0m",
      "\u001b[0;31mTypeError\u001b[0m                                 Traceback (most recent call last)",
      "\u001b[0;32m<ipython-input-29-51ce0c6f55bf>\u001b[0m in \u001b[0;36m<module>\u001b[0;34m\u001b[0m\n\u001b[0;32m----> 1\u001b[0;31m \u001b[0mshot_iv\u001b[0m\u001b[0;34m.\u001b[0m\u001b[0mgunn_fit\u001b[0m\u001b[0;34m(\u001b[0m\u001b[0mplot_fl\u001b[0m\u001b[0;34m=\u001b[0m\u001b[0;32mTrue\u001b[0m\u001b[0;34m)\u001b[0m\u001b[0;34m\u001b[0m\u001b[0;34m\u001b[0m\u001b[0m\n\u001b[0m",
      "\u001b[0;32m~/coding/projects/flopter/flopter/core/ivdata.py\u001b[0m in \u001b[0;36mgunn_fit\u001b[0;34m(self, sat_region, plot_fl)\u001b[0m\n\u001b[1;32m    387\u001b[0m         \u001b[0msimple_iv_fitter\u001b[0m \u001b[0;34m=\u001b[0m \u001b[0mfts\u001b[0m\u001b[0;34m.\u001b[0m\u001b[0mSimpleIVFitter\u001b[0m\u001b[0;34m(\u001b[0m\u001b[0;34m)\u001b[0m\u001b[0;34m\u001b[0m\u001b[0;34m\u001b[0m\u001b[0m\n\u001b[1;32m    388\u001b[0m         fit_data_corrected = iv_data_corrected.multi_fit(sat_region=sat_region, fitter=simple_iv_fitter,\n\u001b[0;32m--> 389\u001b[0;31m                                                          plot_fl=plot_fl)\n\u001b[0m\u001b[1;32m    390\u001b[0m \u001b[0;34m\u001b[0m\u001b[0m\n\u001b[1;32m    391\u001b[0m         \u001b[0;32mif\u001b[0m \u001b[0mplot_fl\u001b[0m\u001b[0;34m:\u001b[0m\u001b[0;34m\u001b[0m\u001b[0;34m\u001b[0m\u001b[0m\n",
      "\u001b[0;31mTypeError\u001b[0m: multi_fit() got an unexpected keyword argument 'fitter'"
     ]
    }
   ],
   "source": [
    "shot_iv.gunn_fit(plot_fl=True)"
   ]
  },
  {
   "cell_type": "code",
   "execution_count": 19,
   "metadata": {},
   "outputs": [],
   "source": [
    "volts = []\n",
    "temps = []\n",
    "d_temps = []\n",
    "chis = []\n",
    "for shot_fit in shot_fits:\n",
    "    volts.append(np.max(shot_fit.raw_x))\n",
    "    temps.append(shot_fit.get_temp())\n",
    "    d_temps.append(shot_fit.get_temp_err())\n",
    "    chis.append(shot_fit.reduced_chi2)\n",
    "volts = np.array(volts)\n",
    "temps = np.array(temps)\n",
    "d_temps = np.array(d_temps)\n",
    "chis = np.array(chis)     "
   ]
  },
  {
   "cell_type": "code",
   "execution_count": 20,
   "metadata": {},
   "outputs": [],
   "source": [
    "# alternative calculation of chi^2\n",
    "import scipy.stats as stat\n",
    "\n",
    "numpy_chis = []\n",
    "manual_chis = []\n",
    "scipy_chis = []\n",
    "\n",
    "numpy_redchis = []\n",
    "manual_redchis = []\n",
    "scipy_redchis = []\n",
    "\n",
    "for shot_fit in shot_fits:\n",
    "    numpy_chi = np.sum((shot_fit.raw_y - shot_fit.fit_y)**2 / (shot_fit.sigma)**2)\n",
    "    numpy_chis.append(numpy_chi)\n",
    "    numpy_redchis.append(numpy_chi / (len(shot_fit.raw_x) - 4))\n",
    "    \n",
    "    manual_chi = 0\n",
    "    for i in range(len(shot_fit.raw_y)):\n",
    "        manual_chi += (shot_fit.raw_y[i] - shot_fit.fit_y[i])**2 / (shot_fit.sigma[i]**2)\n",
    "    manual_chis.append(manual_chi)\n",
    "    manual_redchis.append(manual_chi / (len(shot_fit.raw_x) - 4))\n",
    "    \n",
    "    scipy_chi, p = stat.chisquare(shot_fit.raw_y, shot_fit.fit_y, ddof=3)\n",
    "    scipy_chis.append(scipy_chi)\n",
    "    scipy_redchis.append(scipy_chi / (len(shot_fit.raw_x) - 4))"
   ]
  },
  {
   "cell_type": "code",
   "execution_count": 21,
   "metadata": {},
   "outputs": [
    {
     "data": {
      "text/plain": [
       "<matplotlib.legend.Legend at 0x7f814cb9b9b0>"
      ]
     },
     "execution_count": 21,
     "metadata": {},
     "output_type": "execute_result"
    }
   ],
   "source": [
    "fig, ax = plt.subplots()\n",
    "ax.plot(volts, chis, label='flopter')\n",
    "ax.plot(volts, numpy_redchis, label='numpy')\n",
    "ax.plot(volts, manual_redchis, label='manual')\n",
    "# ax.plot(volts, chis - scipy_chis, label='scipy')\n",
    "ax.legend()"
   ]
  },
  {
   "cell_type": "code",
   "execution_count": 22,
   "metadata": {},
   "outputs": [
    {
     "data": {
      "text/plain": [
       "<matplotlib.legend.Legend at 0x7f814ca6c470>"
      ]
     },
     "execution_count": 22,
     "metadata": {},
     "output_type": "execute_result"
    }
   ],
   "source": [
    "fig, ax = plt.subplots()\n",
    "# ax.plot(volts, chis, label='flopter')\n",
    "ax.plot(volts, chis - numpy_redchis, label='numpy')\n",
    "ax.plot(volts, chis - manual_redchis, label='manual')\n",
    "# ax.plot(volts, chis - scipy_chis, label='scipy')\n",
    "ax.legend()"
   ]
  },
  {
   "cell_type": "code",
   "execution_count": 23,
   "metadata": {},
   "outputs": [
    {
     "name": "stdout",
     "output_type": "stream",
     "text": [
      "43.0\n"
     ]
    }
   ],
   "source": [
    "floating_interp = sweep_avg_ds.swap_dims({'time':'current'}).interp(current=0).voltage\n",
    "print((floating_interp.time * 10000).round().values)"
   ]
  },
  {
   "cell_type": "code",
   "execution_count": 24,
   "metadata": {},
   "outputs": [
    {
     "data": {
      "text/plain": [
       "<matplotlib.lines.Line2D at 0x7f814b4cc898>"
      ]
     },
     "execution_count": 24,
     "metadata": {},
     "output_type": "execute_result"
    }
   ],
   "source": [
    "# Plot of fitted variables as a function of trimming index\n",
    "\n",
    "fig, ax = plt.subplots(3, sharex=True)\n",
    "ax[0].errorbar(volts, temps, yerr=d_temps)\n",
    "ax[1].plot(volts, chis)\n",
    "ax[1].set_yscale('log')\n",
    "ax[1].set_ylabel(r'$\\chi^2_{red}$')\n",
    "\n",
    "\n",
    "if sweep_avg_ds['voltage'].values[0] < sweep_avg_ds['voltage'].values[-1]:\n",
    "    ds_trimmed = sweep_avg_ds.isel(time=(varying_indices - 1))\n",
    "else:\n",
    "    ds_trimmed = sweep_avg_ds.isel(time=sweep_avg_ds.time.size - varying_indices)\n",
    "\n",
    "ax[2].errorbar('voltage', 'current', yerr='stderr_current', data=ds_trimmed)\n",
    "ax[2].fill_between(\n",
    "    ds_trimmed.voltage.values, \n",
    "    ds_trimmed.current.values + ds_trimmed.stderr_current.values, \n",
    "    ds_trimmed.current.values - ds_trimmed.stderr_current.values,\n",
    "    alpha=0.5\n",
    ")\n",
    "\n",
    "v_f = sweep_avg_ds.swap_dims({'time':'current'}).interp(current=0).voltage\n",
    "ax[0].axvline(x=v_f, **c.AX_LINE_DEFAULTS)\n",
    "ax[1].axvline(x=v_f, **c.AX_LINE_DEFAULTS)\n",
    "ax[2].axvline(x=v_f, **c.AX_LINE_DEFAULTS)"
   ]
  },
  {
   "cell_type": "markdown",
   "metadata": {},
   "source": [
    "### Goodness of Fit Minimisation\n",
    "The below function plots a big comparison of various goodness of fit measures, and where their respective minima/maxima lie. These are:\n",
    " - $T_e$ minimum\n",
    " - $T_e \\cdot \\Delta T_e$ minimum\n",
    " - minimum of $|\\chi^{2}_{\\nu} - 1| + 1$, which is ~1 when perfect fit\n",
    " - $T_e \\cdot \\Delta T_e \\cdot (|\\chi^{2}_{\\nu} - 1| + 1)$ minimum (called the \"goodness of fit\" parameter for lack of a better name\n",
    " - maximum of a log-normal distribution with $\\mu = 1$, $\\sigma = \\frac{1}{T_e \\cdot \\Delta T_e}$ (I think)\n"
   ]
  },
  {
   "cell_type": "code",
   "execution_count": 28,
   "metadata": {},
   "outputs": [
    {
     "name": "stderr",
     "output_type": "stream",
     "text": [
      "No handles with labels found to put in legend.\n"
     ]
    }
   ],
   "source": [
    "fig, ax = plt.subplots(5, 2, sharex=True)\n",
    "\n",
    "chi2_str = r'$\\chi^{2}_{\\nu}$'\n",
    "temp_str = r'$T_e$'\n",
    "d_temp_str = r'$\\Delta T_e$'\n",
    "chi_param_str = r'$|\\chi^{2}_{\\nu} - 1| + 1$'\n",
    "alt_chi_param_str = r'$|\\chi^{2}_{\\nu} - 1|$'\n",
    "\n",
    "\n",
    "temp_param = temps * d_temps\n",
    "chi_param = np.abs(chis - 1) + 1\n",
    "alt_chi_param = np.abs(chis - 1)\n",
    "goodness_param = temp_param * chi_param\n",
    "alt_goodness_param = temp_param * alt_chi_param\n",
    "gaussian_param = gaussian.fit_function(np.log(chis), 1/(temps * d_temps), np.log(1))\n",
    "\n",
    "v_f = sweep_avg_ds.swap_dims({'time':'current'}).interp(current=0).voltage\n",
    "\n",
    "chi_index = volts[np.argmin(chis)]\n",
    "chi_param_index = volts[np.argmin(chi_param)]\n",
    "alt_chi_param_index = volts[np.argmin(alt_chi_param)]\n",
    "goodness_index = volts[np.argmin(goodness_param)]\n",
    "alt_goodness_index = volts[np.argmin(alt_goodness_param)]\n",
    "gaussian_index = volts[np.argmax(gaussian_param)]\n",
    "TdT_index = volts[np.argmin(temp_param)]\n",
    "T_index = volts[np.argmin(temps)]\n",
    "\n",
    "ax[0][0].errorbar(volts, temps, yerr=d_temps)\n",
    "ax[0][0].set_ylabel(temp_str)\n",
    "ax[0][0].axvline(x=T_index, color='blue', linestyle='--', label='T min')\n",
    "ax[0][0].axvline(x=TdT_index, color='purple', linestyle='--', )\n",
    "ax[0][0].axvline(x=chi_param_index, color='green', linestyle='--', )\n",
    "ax[0][0].axvline(x=goodness_index, color='red', linestyle='--', )\n",
    "ax[0][0].axvline(x=gaussian_index, color='orange', linestyle=':', )\n",
    "\n",
    "ax[0][1].plot(volts, chis, label=chi2_str)\n",
    "ax[0][1].axhline(y=1, **c.AX_LINE_DEFAULTS)\n",
    "ax[0][1].set_yscale('log')\n",
    "ax[0][1].set_ylabel(chi2_str)\n",
    "ax[0][1].axvline(x=T_index, color='blue', linestyle='--',)\n",
    "ax[0][1].axvline(x=TdT_index, color='purple', linestyle='--', )\n",
    "ax[0][1].axvline(x=chi_param_index, color='green', linestyle='--', )\n",
    "ax[0][1].axvline(x=goodness_index, color='red', linestyle='--', )\n",
    "ax[0][1].axvline(x=gaussian_index, color='orange', linestyle='dotted', )\n",
    "\n",
    "ax[1][0].plot(volts, temp_param)\n",
    "ax[1][0].set_ylabel(temp_str + d_temp_str)\n",
    "ax[1][0].set_yscale('log')\n",
    "ax[1][0].axvline(x=TdT_index, color='purple', linestyle='--', label='T * dT')\n",
    "\n",
    "ax[2][0].plot(volts, chi_param)\n",
    "ax[2][0].set_yscale('log')\n",
    "ax[2][0].set_ylabel(chi_param_str)\n",
    "ax[2][0].axvline(x=chi_param_index, color='green', linestyle='--', label=chi_param_str)\n",
    "\n",
    "ax[3][0].plot(volts, goodness_param)\n",
    "ax[3][0].set_yscale('log')\n",
    "ax[3][0].set_ylabel(r'$T_e . \\Delta T_e . (|\\chi^{2}_{\\nu} - 1| + 1)$')\n",
    "ax[3][0].axvline(x=goodness_index, color='red', linestyle='--', label='goodness')\n",
    "\n",
    "ax[1][1].plot(volts, gaussian_param)\n",
    "ax[1][1].set_yscale('log')\n",
    "ax[1][1].set_ylabel(r'gaussian param')\n",
    "ax[1][1].axvline(x=gaussian_index, color='orange', linestyle='dotted', label='gaussian ')\n",
    "\n",
    "ax[2][1].plot(volts, alt_chi_param)\n",
    "ax[2][1].set_yscale('log')\n",
    "ax[2][1].set_ylabel(alt_chi_param_str)\n",
    "ax[2][1].axvline(x=alt_chi_param_index, color='green', linestyle='--', label=alt_chi_param_str)\n",
    "\n",
    "ax[3][1].plot(volts, alt_goodness_param)\n",
    "ax[3][1].set_yscale('log')\n",
    "ax[3][1].set_ylabel(r'$T_e . \\Delta T_e . |\\chi^{2}_{\\nu} - 1|$')\n",
    "ax[3][1].axvline(x=alt_goodness_index, color='gold', linestyle='--', label='alt_goodness')\n",
    "\n",
    "d_temps_ratio_str = r'$\\frac{\\Delta T_e}{T_e}$'\n",
    "ax[4][0].plot(volts, d_temps / temps)\n",
    "ax[4][0].set_ylabel(d_temps_ratio_str)\n",
    "ax[4][0].set_yscale('log')\n",
    "# ax[1][0].axvline(x=TdT_index, color='purple', linestyle='--', label=d_temps_ratio_str)\n",
    "ax[4][0].axhline(y=10, color='black', label='Threshold')\n",
    "\n",
    "\n",
    "for col in ax:\n",
    "    for axis in col:\n",
    "        axis.axvline(x=v_f, **c.AX_LINE_DEFAULTS)\n",
    "        axis.legend()"
   ]
  },
  {
   "cell_type": "code",
   "execution_count": 76,
   "metadata": {},
   "outputs": [
    {
     "data": {
      "text/plain": [
       "<matplotlib.legend.Legend at 0x7fe2813384a8>"
      ]
     },
     "execution_count": 76,
     "metadata": {},
     "output_type": "execute_result"
    }
   ],
   "source": [
    "fig, ax = plt.subplots(2, sharex=True)\n",
    "\n",
    "ax[0].errorbar(volts, temps, yerr=d_temps)\n",
    "ax[0].set_ylabel(temp_str)\n",
    "ax[0].axvline(x=T_index, color='blue', linestyle='--', label=r'$(T_e)_{min}$')\n",
    "ax[0].axvline(x=v_f, **c.AX_LINE_DEFAULTS, label=r'$V_P$')\n",
    "ax[0].legend()\n",
    "\n",
    "ax[1].plot(volts, temp_param)\n",
    "ax[1].set_ylabel(temp_str + r'$\\cdot$' + d_temp_str)\n",
    "# ax[1].set_yscale('log')\n",
    "ax[1].set_xlabel(r'$V_{cutoff}$')\n",
    "ax[1].axvline(x=TdT_index, color='purple', linestyle='--', label=r'$(T \\cdot \\Delta T)_{min}$')\n",
    "ax[1].axvline(x=v_f, **c.AX_LINE_DEFAULTS, label=r'$V_P$')\n",
    "ax[1].legend()\n"
   ]
  },
  {
   "cell_type": "code",
   "execution_count": 30,
   "metadata": {},
   "outputs": [
    {
     "name": "stdout",
     "output_type": "stream",
     "text": [
      "38 2.7417929887872936 0.00499694197807361 -11.377263240562195\n",
      "48 0.8522767974256072 9.927175433782065 1.8940722877944929\n"
     ]
    }
   ],
   "source": [
    "lowest_T_index = np.argmin(temps)\n",
    "print(varying_indices[lowest_T_index], np.min(temps), chis[lowest_T_index], volts[lowest_T_index])\n",
    "lowest_chi_index = np.argmin(np.abs(np.array(chis) - 1))\n",
    "print(varying_indices[lowest_chi_index], chis[lowest_chi_index], temps[lowest_chi_index], volts[lowest_chi_index])"
   ]
  },
  {
   "cell_type": "code",
   "execution_count": 149,
   "metadata": {},
   "outputs": [
    {
     "data": {
      "text/plain": [
       "<matplotlib.legend.Legend at 0x7f80c8cc98d0>"
      ]
     },
     "execution_count": 149,
     "metadata": {},
     "output_type": "execute_result"
    }
   ],
   "source": [
    "T = [1,2,4,6,8,10]\n",
    "chi2 = np.logspace(-3, +3, 200)\n",
    "# chi2_param = np.abs(chi2 - 1) + 1\n",
    "chi2_param = -np.abs(chi2/(chi2 - 1))\n",
    "positive_chi = chi2_param > 1\n",
    "negative_chi = chi2_param < 1\n",
    "# chi2_gaussian = (fts.GenericGaussianFitter().fit_function(np.log(chi2), 1, 1, np.log(1))) #/ (np.abs(chi2 - 1) + 1)\n",
    "chi2_gaussian = gaussian.fit_function(np.log(chi2), 1, np.log(1))\n",
    "\n",
    "fig, ax = plt.subplots(2)\n",
    "# ax[0].plot(chi2[positive_chi], chi2_param[positive_chi], )\n",
    "# ax[0].plot(chi2[negative_chi], chi2_param[negative_chi], )\n",
    "# ax[0].plot(chi2, chi2_param, )\n",
    "ax[0].plot(chi2, chi2_gaussian)\n",
    "ax[0].set_xscale('log')\n",
    "\n",
    "for temperature in T:\n",
    "#     chi2_gaussian = (fts.GenericGaussianFitter().fit_function(np.log(chi2), 1, 1, np.log(1))) #/ (np.abs(chi2 - 1) + 1)\n",
    "    chi2_gaussian = gaussian.fit_function(np.log(chi2), 1/temperature, np.log(1))\n",
    "\n",
    "    ax[1].plot(chi2, chi2_gaussian, label=f'T={temperature}')\n",
    "ax[1].set_xscale('log')\n",
    "ax[1].legend()"
   ]
  },
  {
   "cell_type": "code",
   "execution_count": 162,
   "metadata": {},
   "outputs": [
    {
     "data": {
      "text/plain": [
       "<matplotlib.legend.Legend at 0x7f80cabe4a58>"
      ]
     },
     "execution_count": 162,
     "metadata": {},
     "output_type": "execute_result"
    }
   ],
   "source": [
    "T = np.linspace(0.5, 12, 200)\n",
    "chi2 = np.logspace(-3, +3, 7)\n",
    "\n",
    "fig, ax = plt.subplots()\n",
    "\n",
    "for chi_boi in [0.5,1.0,1.5]:\n",
    "    chi2_gaussian = gaussian.fit_function(np.log(chi_boi), 1/T, np.log(1))\n",
    "    ax.plot(T, chi2_gaussian, label=f'chi = {chi_boi}')\n",
    "\n",
    "ax.set_yscale('log')\n",
    "ax.legend()"
   ]
  },
  {
   "cell_type": "markdown",
   "metadata": {},
   "source": [
    "## Playing with the conversion between IVData objects and datasets"
   ]
  },
  {
   "cell_type": "code",
   "execution_count": 31,
   "metadata": {},
   "outputs": [
    {
     "ename": "NameError",
     "evalue": "name 'f' is not defined",
     "output_type": "error",
     "traceback": [
      "\u001b[0;31m---------------------------------------------------------------------------\u001b[0m",
      "\u001b[0;31mNameError\u001b[0m                                 Traceback (most recent call last)",
      "\u001b[0;32m<ipython-input-31-5f1ba9407598>\u001b[0m in \u001b[0;36m<module>\u001b[0;34m\u001b[0m\n\u001b[1;32m      1\u001b[0m \u001b[0mimportlib\u001b[0m\u001b[0;34m.\u001b[0m\u001b[0mreload\u001b[0m\u001b[0;34m(\u001b[0m\u001b[0mc\u001b[0m\u001b[0;34m)\u001b[0m\u001b[0;34m\u001b[0m\u001b[0;34m\u001b[0m\u001b[0m\n\u001b[1;32m      2\u001b[0m \u001b[0mimportlib\u001b[0m\u001b[0;34m.\u001b[0m\u001b[0mreload\u001b[0m\u001b[0;34m(\u001b[0m\u001b[0miv\u001b[0m\u001b[0;34m)\u001b[0m\u001b[0;34m\u001b[0m\u001b[0;34m\u001b[0m\u001b[0m\n\u001b[0;32m----> 3\u001b[0;31m \u001b[0mimportlib\u001b[0m\u001b[0;34m.\u001b[0m\u001b[0mreload\u001b[0m\u001b[0;34m(\u001b[0m\u001b[0mf\u001b[0m\u001b[0;34m)\u001b[0m\u001b[0;34m\u001b[0m\u001b[0;34m\u001b[0m\u001b[0m\n\u001b[0m",
      "\u001b[0;31mNameError\u001b[0m: name 'f' is not defined"
     ]
    }
   ],
   "source": [
    "importlib.reload(c)\n",
    "importlib.reload(iv)\n",
    "importlib.reload(fts)"
   ]
  },
  {
   "cell_type": "code",
   "execution_count": 14,
   "metadata": {},
   "outputs": [],
   "source": [
    "shot_iv = iv.IVData.from_dataset(sweep_avg_ds, sigma='stderr_current')"
   ]
  },
  {
   "cell_type": "code",
   "execution_count": 15,
   "metadata": {},
   "outputs": [
    {
     "data": {
      "text/plain": [
       "True"
      ]
     },
     "execution_count": 15,
     "metadata": {},
     "output_type": "execute_result"
    }
   ],
   "source": [
    "isinstance(shot_iv, iv.IVData)"
   ]
  },
  {
   "cell_type": "code",
   "execution_count": 16,
   "metadata": {},
   "outputs": [],
   "source": [
    "fig, ax = plt.subplots()\n",
    "vf_index = vf_index = shot_iv.get_vf_index()\n",
    "\n",
    "shot_iv.plot(ax=ax, trim_lines_fl=False)\n",
    "shot_iv.lower_trim(vf_index).plot(ax=ax, trim_lines_fl=False)"
   ]
  },
  {
   "cell_type": "code",
   "execution_count": 17,
   "metadata": {},
   "outputs": [],
   "source": [
    "upper_lim_frac = 0.2  # 10/50\n",
    "lower_lim_frac = 0.1  # 5/50\n",
    "step_frac = 0.02\n",
    "\n",
    "trim_range_updist = int(upper_lim_frac * len(shot_iv['t']))\n",
    "trim_range_lodist = int(lower_lim_frac * len(shot_iv['t']))\n",
    "trim_range_step = max(int(step_frac * len(shot_iv['t'])), 1)\n",
    "\n",
    "\n",
    "if shot_iv['V'][0] < shot_iv['V'][-1]:\n",
    "    trim_range = np.arange(max(vf_index - trim_range_lodist, 0), \n",
    "                           min(vf_index + trim_range_updist, len(shot_iv['t'])),\n",
    "                           trim_range_step)\n",
    "else:\n",
    "    trim_range = np.arange(max(vf_index - trim_range_updist, 0), \n",
    "                           min(vf_index + trim_range_lodist, len(shot_iv['t'])),\n",
    "                           trim_range_step)"
   ]
  },
  {
   "cell_type": "code",
   "execution_count": 19,
   "metadata": {},
   "outputs": [
    {
     "data": {
      "text/plain": [
       "[<matplotlib.lines.Line2D at 0x7f60922c7ac8>]"
      ]
     },
     "execution_count": 19,
     "metadata": {},
     "output_type": "execute_result"
    }
   ],
   "source": [
    "fig, ax = plt.subplots(2)\n",
    "\n",
    "fitter = fts.FullIVFitter()\n",
    "\n",
    "trim_fits = []\n",
    "temps = []\n",
    "shot_iv.plot(ax=ax[0])\n",
    "for i in trim_range:\n",
    "    if shot_iv['V'][0] < shot_iv['V'][-1]:\n",
    "        trim_iv = shot_iv.upper_trim(i)\n",
    "    else:\n",
    "        trim_iv = shot_iv.lower_trim(i)\n",
    "    trim_iv.plot(ax=ax[0])\n",
    "    \n",
    "    trim_fit = fitter.fit_iv_data(trim_iv, sigma=trim_iv['sigma'])\n",
    "    \n",
    "    trim_fits.append(trim_fit)\n",
    "    temps.append(trim_fit.get_temp())\n",
    "\n",
    "ax[1].plot(trim_range, temps)\n",
    "\n"
   ]
  },
  {
   "cell_type": "code",
   "execution_count": 25,
   "metadata": {},
   "outputs": [],
   "source": [
    "volts = []\n",
    "temps = []\n",
    "d_temps = []\n",
    "chis = []\n",
    "for trim_fit in trim_fits:\n",
    "    volts.append(np.max(trim_fit.raw_x))\n",
    "    temps.append(trim_fit.get_temp())\n",
    "    d_temps.append(trim_fit.get_temp_err())\n",
    "    chis.append(trim_fit.reduced_chi2)"
   ]
  },
  {
   "cell_type": "code",
   "execution_count": 21,
   "metadata": {},
   "outputs": [
    {
     "data": {
      "text/plain": [
       "[<matplotlib.lines.Line2D at 0x7f60921449e8>]"
      ]
     },
     "execution_count": 21,
     "metadata": {},
     "output_type": "execute_result"
    }
   ],
   "source": [
    "fig, ax = plt.subplots(2, sharex=True)\n",
    "shot_iv.plot(ax=ax[0])\n",
    "ax[1].plot(volts, temps)"
   ]
  },
  {
   "cell_type": "code",
   "execution_count": 22,
   "metadata": {},
   "outputs": [
    {
     "data": {
      "text/plain": [
       "1.045807622294931"
      ]
     },
     "execution_count": 22,
     "metadata": {},
     "output_type": "execute_result"
    }
   ],
   "source": [
    "trim_fits[np.argmin(temps)].reduced_chi2"
   ]
  },
  {
   "cell_type": "code",
   "execution_count": 128,
   "metadata": {},
   "outputs": [
    {
     "data": {
      "text/plain": [
       "<flopter.core.fitdata.IVFitData at 0x7fe2797ebdd8>"
      ]
     },
     "execution_count": 128,
     "metadata": {},
     "output_type": "execute_result"
    }
   ],
   "source": [
    "shot_iv.multi_fit(plot_fl=True)"
   ]
  },
  {
   "cell_type": "code",
   "execution_count": null,
   "metadata": {},
   "outputs": [],
   "source": []
  },
  {
   "cell_type": "markdown",
   "metadata": {},
   "source": [
    "# Iminuit Time"
   ]
  },
  {
   "cell_type": "code",
   "execution_count": 24,
   "metadata": {},
   "outputs": [],
   "source": [
    "import iminuit as im"
   ]
  },
  {
   "cell_type": "code",
   "execution_count": null,
   "metadata": {},
   "outputs": [],
   "source": []
  }
 ],
 "metadata": {
  "kernelspec": {
   "display_name": "python3.6-codac",
   "language": "python",
   "name": "python3.6-codac"
  },
  "language_info": {
   "codemirror_mode": {
    "name": "ipython",
    "version": 3
   },
   "file_extension": ".py",
   "mimetype": "text/x-python",
   "name": "python",
   "nbconvert_exporter": "python",
   "pygments_lexer": "ipython3",
   "version": "3.6.9"
  }
 },
 "nbformat": 4,
 "nbformat_minor": 4
}
