{
 "cells": [
  {
   "cell_type": "markdown",
   "metadata": {},
   "source": [
    "# Analysis of Axial Scan for PSI Paper\n",
    "This is the most up to date (as of 2020-06-19) analysis of the axial scan data, with temperature minimisation implemented, to make figures to put into the PSI paper"
   ]
  },
  {
   "cell_type": "code",
   "execution_count": 1,
   "metadata": {},
   "outputs": [],
   "source": [
    "%matplotlib tk\n",
    "import numpy as np\n",
    "import matplotlib.pyplot as plt\n",
    "import matplotlib as mpl\n",
    "import pandas as pd\n",
    "import xarray as xr \n",
    "import scipy.stats as stat\n",
    "import collections\n",
    "import sys\n",
    "import os\n",
    "import glob\n",
    "import re\n",
    "sys.path.append('/home/jleland/Coding/Projects/flopter')\n",
    "import flopter.core.ivdata as iv\n",
    "import flopter.core.lputils as lp\n",
    "import flopter.magnum.database as ut\n",
    "import flopter.magnum.utils as mgut\n",
    "import flopter.core.fitters as fts\n",
    "import flopter.core.constants as c"
   ]
  },
  {
   "cell_type": "code",
   "execution_count": 2,
   "metadata": {},
   "outputs": [],
   "source": [
    "# Create analysed dataset metadata \n",
    "\n",
    "path_to_datasets = '/home/jleland/data/external/magnum/'\n",
    "# path_to_datasets = '/home/jleland/data/externy/magnum/'\n",
    "# path_to_analysed_datasets = 'analysed_2'\n",
    "# path_to_analysed_datasets = 'analysed_3'\n",
    "# path_to_analysed_datasets = 'phobos_test'\n",
    "# path_to_analysed_datasets = 'test'\n",
    "# path_to_analysed_datasets = 'analysed_3_downsampled'\n",
    "# path_to_analysed_datasets = 'analysed_4'\n",
    "path_to_analysed_datasets = 'analysed_4_downsampled'\n",
    "os.chdir(path_to_datasets)"
   ]
  },
  {
   "cell_type": "code",
   "execution_count": 3,
   "metadata": {},
   "outputs": [],
   "source": [
    "magnum_probes = lp.MagnumProbes()"
   ]
  },
  {
   "cell_type": "markdown",
   "metadata": {},
   "source": [
    "## Load adc file metadata"
   ]
  },
  {
   "cell_type": "code",
   "execution_count": 4,
   "metadata": {},
   "outputs": [
    {
     "name": "stdout",
     "output_type": "stream",
     "text": [
      "<xarray.Dataset>\n",
      "Dimensions:                 (shot_number: 523, ts_radial_pos: 46)\n",
      "Coordinates:\n",
      "  * shot_number             (shot_number) int32 0 1 2 3 4 ... 519 520 521 522\n",
      "    ts_number               (shot_number) float64 ...\n",
      "    ts_timestamp            (shot_number) float64 ...\n",
      "    ts_time                 (shot_number) datetime64[ns] ...\n",
      "    adc_index               (shot_number) float64 ...\n",
      "    adc_time                (shot_number) datetime64[ns] ...\n",
      "  * ts_radial_pos           (ts_radial_pos) float64 -36.47 -34.8 ... 37.14 38.82\n",
      "Data variables:\n",
      "    adc_filename            (shot_number) object ...\n",
      "    ts_density              (shot_number, ts_radial_pos) float64 ...\n",
      "    ts_temperature          (shot_number, ts_radial_pos) float64 ...\n",
      "    ts_d_density            (shot_number, ts_radial_pos) float64 ...\n",
      "    ts_d_temperature        (shot_number, ts_radial_pos) float64 ...\n",
      "    adc_folder              (shot_number) object ...\n",
      "    adc_calibration_index   (shot_number) object ...\n",
      "    adc_4_probe             (shot_number) object ...\n",
      "    adc_5_probe             (shot_number) object ...\n",
      "    ts_temp_max             (shot_number) float64 ...\n",
      "    ts_dens_max             (shot_number) float64 ...\n",
      "    shot_end_time           (shot_number) datetime64[ns] ...\n",
      "    ts_fl                   (shot_number) bool ...\n",
      "    shot_time               (shot_number) datetime64[ns] ...\n",
      "    shot_source_current     (shot_number) float64 ...\n",
      "    shot_b_field            (shot_number) float64 ...\n",
      "    shot_tilt               (shot_number) float64 ...\n",
      "    shot_target_pos         (shot_number) float64 ...\n",
      "    shot_target_rot         (shot_number) float64 ...\n",
      "    shot_target_pumpspeed   (shot_number) int32 ...\n",
      "    shot_source_pumpspeed   (shot_number) int32 ...\n",
      "    shot_heating_pumpspeed  (shot_number) int32 ...\n",
      "    shot_source_pos         (shot_number) float64 ...\n",
      "    shot_deuterium_gf       (shot_number) float64 ...\n",
      "    shot_hydrogen_gf        (shot_number) float64 ...\n",
      "    shot_helium_gf          (shot_number) float64 ...\n",
      "    shot_hydrogen_puffed    (shot_number) float64 ...\n",
      "    shot_helium_puffed      (shot_number) float64 ...\n",
      "    adc_timestamp           (shot_number) float64 ...\n",
      "    adc_4_coax              (shot_number) float64 ...\n",
      "    adc_4_shunt_resistance  (shot_number) float64 ...\n",
      "    adc_5_coax              (shot_number) float64 ...\n",
      "    adc_5_shunt_resistance  (shot_number) float64 ...\n",
      "    adc_calibration_fl      (shot_number) float64 ...\n",
      "    shot_fl                 (shot_number) float64 ...\n",
      "    acquisition_length      (shot_number) float64 ...\n",
      "    adc_end_time            (shot_number) datetime64[ns] ...\n",
      "    adc_end_timestamp       (shot_number) float64 ...\n",
      "    adc_freqs               (shot_number) float64 ...\n"
     ]
    }
   ],
   "source": [
    "os.chdir('/home/jleland/data/external/magnum/')\n",
    "# os.chdir('/home/jleland/data/externy/magnum/')\n",
    "meta_data_ds = xr.open_dataset('all_meta_data.nc')\n",
    "print(meta_data_ds)"
   ]
  },
  {
   "cell_type": "markdown",
   "metadata": {},
   "source": [
    "## Start of Analysis"
   ]
  },
  {
   "cell_type": "code",
   "execution_count": 5,
   "metadata": {},
   "outputs": [],
   "source": [
    "super_title = 'H axial scan @ 0.8T, tilt=10'\n",
    "axial_scan_indices = [132,148,149,150,151,152,153,154,155,156,157,158,159,160,161,163,164,165,166,167,168,169,170,171,172,173,174,175,176,177,178,179,180,181,182,183,184,185,186,187,188,189]"
   ]
  },
  {
   "cell_type": "markdown",
   "metadata": {},
   "source": [
    "The below is a set of all non-numerical variables which, for some reason, now have to be dropped before we can run where on a reduced dataset. "
   ]
  },
  {
   "cell_type": "code",
   "execution_count": 24,
   "metadata": {},
   "outputs": [],
   "source": [
    "droppable_vars = {\n",
    "    'adc_4_probe',\n",
    "    'adc_5_probe',\n",
    "    'adc_calibration_index',\n",
    "    'adc_end_time',\n",
    "    'adc_filename',\n",
    "    'adc_folder',\n",
    "    'adc_index',\n",
    "    'adc_time',\n",
    "    'shot_end_time',\n",
    "    'sweep_time',\n",
    "    'ts_number',\n",
    "    'ts_time',\n",
    "    'ts_timestamp'\n",
    "}"
   ]
  },
  {
   "cell_type": "code",
   "execution_count": 25,
   "metadata": {},
   "outputs": [],
   "source": [
    "axial_scan_ds = mgut.get_dataset_from_indices(axial_scan_indices, anglescan_fl=False, \n",
    "                                              path_to_analysed_datasets=path_to_analysed_datasets, \n",
    "                                              average_direction_fl=False).drop(droppable_vars)"
   ]
  },
  {
   "cell_type": "code",
   "execution_count": 26,
   "metadata": {},
   "outputs": [
    {
     "name": "stdout",
     "output_type": "stream",
     "text": [
      "No threshold set, continuing with full sweep.\n"
     ]
    },
    {
     "ename": "IndexError",
     "evalue": "too many indices for array",
     "output_type": "error",
     "traceback": [
      "\u001b[0;31m---------------------------------------------------------------------------\u001b[0m",
      "\u001b[0;31mIndexError\u001b[0m                                Traceback (most recent call last)",
      "\u001b[0;32m<ipython-input-26-e684a3e7bb40>\u001b[0m in \u001b[0;36m<module>\u001b[0;34m\u001b[0m\n\u001b[0;32m----> 1\u001b[0;31m \u001b[0mfit_data_df\u001b[0m \u001b[0;34m=\u001b[0m \u001b[0mmgut\u001b[0m\u001b[0;34m.\u001b[0m\u001b[0mfit_magnum_ds\u001b[0m\u001b[0;34m(\u001b[0m\u001b[0maxial_scan_ds\u001b[0m\u001b[0;34m,\u001b[0m \u001b[0mprobes\u001b[0m\u001b[0;34m=\u001b[0m\u001b[0;34m(\u001b[0m\u001b[0;34m'L'\u001b[0m\u001b[0;34m,\u001b[0m \u001b[0;34m'S'\u001b[0m\u001b[0;34m)\u001b[0m\u001b[0;34m,\u001b[0m \u001b[0mthreshold\u001b[0m\u001b[0;34m=\u001b[0m\u001b[0;32mNone\u001b[0m\u001b[0;34m,\u001b[0m \u001b[0mscan_param\u001b[0m\u001b[0;34m=\u001b[0m\u001b[0;34m'shot_number'\u001b[0m\u001b[0;34m,\u001b[0m \u001b[0mplot_fl\u001b[0m\u001b[0;34m=\u001b[0m\u001b[0;32mFalse\u001b[0m\u001b[0;34m,\u001b[0m \u001b[0mmode\u001b[0m\u001b[0;34m=\u001b[0m\u001b[0;36m3\u001b[0m\u001b[0;34m,\u001b[0m \u001b[0mtrimming_vals\u001b[0m\u001b[0;34m=\u001b[0m\u001b[0;34m(\u001b[0m\u001b[0;36m0.3\u001b[0m\u001b[0;34m,\u001b[0m \u001b[0;36m0.0\u001b[0m\u001b[0;34m,\u001b[0m \u001b[0;36m0.02\u001b[0m\u001b[0;34m)\u001b[0m\u001b[0;34m)\u001b[0m\u001b[0;34m\u001b[0m\u001b[0;34m\u001b[0m\u001b[0m\n\u001b[0m",
      "\u001b[0;32m~/coding/projects/flopter/flopter/magnum/utils.py\u001b[0m in \u001b[0;36mfit_magnum_ds\u001b[0;34m(magnum_subset_ds, probes, ax, scan_param, threshold, fitter, **kwargs)\u001b[0m\n\u001b[1;32m    246\u001b[0m                 \u001b[0malpha\u001b[0m \u001b[0;34m=\u001b[0m \u001b[0mscan_param_value\u001b[0m\u001b[0;34m\u001b[0m\u001b[0;34m\u001b[0m\u001b[0m\n\u001b[1;32m    247\u001b[0m             \u001b[0;32melse\u001b[0m\u001b[0;34m:\u001b[0m\u001b[0;34m\u001b[0m\u001b[0;34m\u001b[0m\u001b[0m\n\u001b[0;32m--> 248\u001b[0;31m                 \u001b[0malpha\u001b[0m \u001b[0;34m=\u001b[0m \u001b[0mnp\u001b[0m\u001b[0;34m.\u001b[0m\u001b[0mradians\u001b[0m\u001b[0;34m(\u001b[0m\u001b[0mprobe_paramscan_ds\u001b[0m\u001b[0;34m[\u001b[0m\u001b[0;34m'tilt'\u001b[0m\u001b[0;34m]\u001b[0m\u001b[0;34m.\u001b[0m\u001b[0mvalues\u001b[0m\u001b[0;34m[\u001b[0m\u001b[0;36m0\u001b[0m\u001b[0;34m]\u001b[0m\u001b[0;34m)\u001b[0m\u001b[0;34m\u001b[0m\u001b[0;34m\u001b[0m\u001b[0m\n\u001b[0m\u001b[1;32m    249\u001b[0m \u001b[0;34m\u001b[0m\u001b[0m\n\u001b[1;32m    250\u001b[0m             \u001b[0;32mif\u001b[0m \u001b[0mlen\u001b[0m\u001b[0;34m(\u001b[0m\u001b[0mprobe_paramscan_ds\u001b[0m\u001b[0;34m.\u001b[0m\u001b[0mtime\u001b[0m\u001b[0;34m)\u001b[0m \u001b[0;34m==\u001b[0m \u001b[0;36m0\u001b[0m\u001b[0;34m:\u001b[0m\u001b[0;34m\u001b[0m\u001b[0;34m\u001b[0m\u001b[0m\n",
      "\u001b[0;31mIndexError\u001b[0m: too many indices for array"
     ]
    }
   ],
   "source": [
    "fit_data_df = mgut.fit_magnum_ds(axial_scan_ds, probes=('L', 'S'), threshold=None, scan_param='shot_number', plot_fl=False, mode=3, trimming_vals=(0.3, 0.0, 0.02))"
   ]
  },
  {
   "cell_type": "code",
   "execution_count": 52,
   "metadata": {},
   "outputs": [],
   "source": [
    "ds = axial_scan_ds.sel(shot_number=148, probe='L')\n",
    "ds = ds.where(np.isfinite(ds), drop=True)\n",
    "ds.tilt.values"
   ]
  },
  {
   "cell_type": "code",
   "execution_count": null,
   "metadata": {},
   "outputs": [],
   "source": [
    "\n"
   ]
  },
  {
   "cell_type": "code",
   "execution_count": null,
   "metadata": {},
   "outputs": [],
   "source": []
  }
 ],
 "metadata": {
  "kernelspec": {
   "display_name": "python3.6-codac",
   "language": "python",
   "name": "python3.6-codac"
  },
  "language_info": {
   "codemirror_mode": {
    "name": "ipython",
    "version": 3
   },
   "file_extension": ".py",
   "mimetype": "text/x-python",
   "name": "python",
   "nbconvert_exporter": "python",
   "pygments_lexer": "ipython3",
   "version": "3.6.9"
  }
 },
 "nbformat": 4,
 "nbformat_minor": 4
}
