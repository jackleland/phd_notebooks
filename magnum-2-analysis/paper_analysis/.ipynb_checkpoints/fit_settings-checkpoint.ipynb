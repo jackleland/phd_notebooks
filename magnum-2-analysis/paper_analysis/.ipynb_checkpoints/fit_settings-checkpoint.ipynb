{
 "cells": [
  {
   "cell_type": "markdown",
   "metadata": {},
   "source": [
    "# Settings for Anglescan Multi-fits\n",
    "The settings found to be useful for getting the best out of multifit for each parameter scan. "
   ]
  },
  {
   "cell_type": "code",
   "execution_count": 1,
   "metadata": {},
   "outputs": [],
   "source": [
    "# indices_12T_He\n",
    "# (2020-06-29) Still working on this as the L probe seems to overestimate a\n",
    "# (2020-06-30) Comparing to a 4-param fit, the overesitmation of a seems ot have little overall effect on the density measurement\n",
    "\n",
    "fit_3P_df = mgut.fit_magnum_ds(angle_scan_ds, probes=('L'), threshold=None, plot_fl=False, trimming_vals=(0.3, 0.0, 0.02), mode=3, sat_region=-75, fitter=fts.SimpleIVFitter())\n",
    "\n",
    "ps = {\n",
    "#     ('S'): {'mode': 0, 'trimming_vals': (0.3, 0.02, 0.02), 'sat_region': -75},\n",
    "#     ('B'): {'mode': 2, 'trimming_vals': (0.2, 0.1, 0.02), 'sat_region': -65}\n",
    "#     ('L'): {'mode': 3, 'trimming_vals': (0.3, 0.0, 0.02), 'sat_region': -75, 'fitter':fts.SimpleIVFitter()},\n",
    "    ('S', 'L'): {'mode': 0, 'trimming_vals': (0.16, 0.0, 0.02), 'sat_region': -75},\n",
    "    ('B'): {'mode': 2, 'sat_region': -65, 'minimise_temp_fl':False}   \n",
    "}\n",
    "fit_df = fit_multi_magnum_ds(angle_scan_ds, probes_settings=ps, threshold=None, plot_fl=False, mass=2)"
   ]
  },
  {
   "cell_type": "code",
   "execution_count": null,
   "metadata": {},
   "outputs": [],
   "source": []
  }
 ],
 "metadata": {
  "kernelspec": {
   "display_name": "python3.6-codac",
   "language": "python",
   "name": "python3.6-codac"
  },
  "language_info": {
   "codemirror_mode": {
    "name": "ipython",
    "version": 3
   },
   "file_extension": ".py",
   "mimetype": "text/x-python",
   "name": "python",
   "nbconvert_exporter": "python",
   "pygments_lexer": "ipython3",
   "version": "3.6.9"
  }
 },
 "nbformat": 4,
 "nbformat_minor": 4
}
